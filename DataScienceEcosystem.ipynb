{
 "cells": [
  {
   "cell_type": "markdown",
   "id": "58357a98-4d26-4da1-86a8-6cd82d7e4a19",
   "metadata": {},
   "source": [
    "# Data Science Tools and Ecosystem"
   ]
  },
  {
   "cell_type": "markdown",
   "id": "0d620442-3114-40a3-a6c3-3deffc5f5a59",
   "metadata": {},
   "source": [
    "In this notebook, Data Science Tools and Ecosystems are summarized."
   ]
  },
  {
   "cell_type": "markdown",
   "id": "825b4aeb-ec1d-450f-971f-a3fc2511fe2e",
   "metadata": {},
   "source": [
    "Some of the popular languages that Data Scientist use are\n",
    "1. Python\n",
    "2. R\n",
    "3. Julia\n",
    "4. SQL\n",
    "5. Java"
   ]
  },
  {
   "cell_type": "markdown",
   "id": "f62e3c74-2b09-43da-8318-c1f77f890728",
   "metadata": {},
   "source": [
    "Some of the commonly used libraries used by Data Scientist include:\n",
    "1. Pandas\n",
    "2. Numpy\n",
    "3. ggplot"
   ]
  },
  {
   "cell_type": "markdown",
   "id": "92358ce0-ab68-4773-9ea5-f6bde92dfd14",
   "metadata": {},
   "source": [
    "| Data Science Tools |\n",
    "|--------------------|\n",
    "| Jupiter notebook |\n",
    "| Jupiter labs |\n",
    "| Rstudiio |"
   ]
  },
  {
   "cell_type": "markdown",
   "id": "49f60750-a020-40df-bb7c-b689f6ed8c80",
   "metadata": {},
   "source": [
    "### Below are a few examples of evaluating arithemtic expression in Python"
   ]
  },
  {
   "cell_type": "code",
   "execution_count": 18,
   "id": "91de9e91-1b97-4f59-8023-5fbf179583eb",
   "metadata": {},
   "outputs": [
    {
     "data": {
      "text/plain": [
       "17"
      ]
     },
     "execution_count": 18,
     "metadata": {},
     "output_type": "execute_result"
    }
   ],
   "source": [
    "# This is a simple arithmetic expression to multiply then add integers\n",
    "(3 *4) + 5"
   ]
  },
  {
   "cell_type": "code",
   "execution_count": 21,
   "id": "877d9f2c-5d67-41e0-b9f9-78e909f650ed",
   "metadata": {},
   "outputs": [
    {
     "data": {
      "text/plain": [
       "3.3333333333333335"
      ]
     },
     "execution_count": 21,
     "metadata": {},
     "output_type": "execute_result"
    }
   ],
   "source": [
    "# This will convert 200 minutes to hours by dividing by 60\n",
    "200/60"
   ]
  },
  {
   "cell_type": "markdown",
   "id": "42451ace-b00a-4f8d-b9d4-19f8f8cc191b",
   "metadata": {},
   "source": [
    "**Objectives:**\n",
    "- List popular languages for Data Science\n",
    "- List popular libraries for Data Science\n",
    "- Perfrom some arithmetic in jupiter\n",
    "- Create a table of IDEs for Data Science"
   ]
  },
  {
   "cell_type": "markdown",
   "id": "a4b9a56f-8861-4181-b86b-f1cd63aab6fc",
   "metadata": {},
   "source": [
    "## Author\n",
    "Owoeye Peace Iyioluwa"
   ]
  },
  {
   "cell_type": "code",
   "execution_count": null,
   "id": "19c594e0-19b9-42aa-ac59-91a09df95bef",
   "metadata": {},
   "outputs": [],
   "source": []
  }
 ],
 "metadata": {
  "kernelspec": {
   "display_name": "Python [conda env:Test_env]",
   "language": "python",
   "name": "conda-env-Test_env-py"
  },
  "language_info": {
   "codemirror_mode": {
    "name": "ipython",
    "version": 3
   },
   "file_extension": ".py",
   "mimetype": "text/x-python",
   "name": "python",
   "nbconvert_exporter": "python",
   "pygments_lexer": "ipython3",
   "version": "3.12.8"
  }
 },
 "nbformat": 4,
 "nbformat_minor": 5
}
